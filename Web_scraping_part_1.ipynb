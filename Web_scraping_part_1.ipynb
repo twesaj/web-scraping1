{
  "nbformat": 4,
  "nbformat_minor": 0,
  "metadata": {
    "colab": {
      "name": "Web-scraping part 1.ipynb",
      "provenance": [],
      "authorship_tag": "ABX9TyP+j5IfwvkSs/+llOaf/ULP",
      "include_colab_link": true
    },
    "kernelspec": {
      "name": "python3",
      "display_name": "Python 3"
    },
    "language_info": {
      "name": "python"
    }
  },
  "cells": [
    {
      "cell_type": "markdown",
      "metadata": {
        "id": "view-in-github",
        "colab_type": "text"
      },
      "source": [
        "<a href=\"https://colab.research.google.com/github/twesaj/web-scraping1/blob/main/Web_scraping_part_1.ipynb\" target=\"_parent\"><img src=\"https://colab.research.google.com/assets/colab-badge.svg\" alt=\"Open In Colab\"/></a>"
      ]
    },
    {
      "cell_type": "markdown",
      "metadata": {
        "id": "j9DKTTQ5IYz0"
      },
      "source": [
        "# Twesa Mwaisemba\n",
        "# Web scraping part 1\n",
        "# 04/08/2021\n",
        "# This script scrapes an image from web page 'wikipedi'a using the beautiful soup function."
      ]
    },
    {
      "cell_type": "code",
      "metadata": {
        "colab": {
          "base_uri": "https://localhost:8080/",
          "height": 34
        },
        "id": "AKX-JlAKSrw4",
        "outputId": "bd3e56a3-2ac4-44ad-abaa-57dd2af37d11"
      },
      "source": [
        " # importing libraries\n",
        "import requests\n",
        "import bs4\n",
        "\n",
        "#make a fresh request for the page content\n",
        "res = requests.get(\"https://en.wikipedia.org/wiki/Nelson_Mandela\")\n",
        "# Now, make our soup.\n",
        "soup = bs4.BeautifulSoup(res.text, 'lxml')\n",
        "# img is an element tag, not a class or id, so we don't need to worry about hashtags or periods.\n",
        "soup.select('img')\n",
        "# Because we're parsing a class, we'll want the . in our argument\n",
        "soup.select('.thumbimage')\n",
        "young_nelson_1 = soup.select('.thumbimage')[0]\n",
        "young_nelson_1['class']\n",
        "young_nelson_1['src']\n",
        "image_link = requests.get(\"https://upload.wikimedia.org/wikipedia/commons/thumb/1/11/Young_Mandela.jpg/170px-Young_Mandela.jpg\")\n",
        "# show the image link using a \"content\" attribute.\n",
        "image_link.content\n",
        "f = open('my_young_nelson_image1.jpg', 'wb') # wb denotes \"write binary\"\n",
        "# now we'll write all that binary content to the file. This should return some integer\n",
        "f.write(image_link.content)\n",
        "# now we close the file.\n",
        "f.close()\n",
        "from google.colab import files\n",
        "files.download('my_young_nelson_image1.jpg')"
      ],
      "execution_count": 1,
      "outputs": [
        {
          "output_type": "display_data",
          "data": {
            "application/javascript": [
              "\n",
              "    async function download(id, filename, size) {\n",
              "      if (!google.colab.kernel.accessAllowed) {\n",
              "        return;\n",
              "      }\n",
              "      const div = document.createElement('div');\n",
              "      const label = document.createElement('label');\n",
              "      label.textContent = `Downloading \"${filename}\": `;\n",
              "      div.appendChild(label);\n",
              "      const progress = document.createElement('progress');\n",
              "      progress.max = size;\n",
              "      div.appendChild(progress);\n",
              "      document.body.appendChild(div);\n",
              "\n",
              "      const buffers = [];\n",
              "      let downloaded = 0;\n",
              "\n",
              "      const channel = await google.colab.kernel.comms.open(id);\n",
              "      // Send a message to notify the kernel that we're ready.\n",
              "      channel.send({})\n",
              "\n",
              "      for await (const message of channel.messages) {\n",
              "        // Send a message to notify the kernel that we're ready.\n",
              "        channel.send({})\n",
              "        if (message.buffers) {\n",
              "          for (const buffer of message.buffers) {\n",
              "            buffers.push(buffer);\n",
              "            downloaded += buffer.byteLength;\n",
              "            progress.value = downloaded;\n",
              "          }\n",
              "        }\n",
              "      }\n",
              "      const blob = new Blob(buffers, {type: 'application/binary'});\n",
              "      const a = document.createElement('a');\n",
              "      a.href = window.URL.createObjectURL(blob);\n",
              "      a.download = filename;\n",
              "      div.appendChild(a);\n",
              "      a.click();\n",
              "      div.remove();\n",
              "    }\n",
              "  "
            ],
            "text/plain": [
              "<IPython.core.display.Javascript object>"
            ]
          },
          "metadata": {
            "tags": []
          }
        },
        {
          "output_type": "display_data",
          "data": {
            "application/javascript": [
              "download(\"download_915cdcdf-b04a-44f5-9089-d47693fe0ec3\", \"my_young_nelson_image1.jpg\", 13807)"
            ],
            "text/plain": [
              "<IPython.core.display.Javascript object>"
            ]
          },
          "metadata": {
            "tags": []
          }
        }
      ]
    }
  ]
}